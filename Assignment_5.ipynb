{
  "nbformat": 4,
  "nbformat_minor": 0,
  "metadata": {
    "colab": {
      "name": "Assignment 5.ipynb",
      "version": "0.3.2",
      "provenance": [],
      "collapsed_sections": [],
      "include_colab_link": true
    },
    "kernelspec": {
      "name": "python3",
      "display_name": "Python 3"
    },
    "accelerator": "GPU"
  },
  "cells": [
    {
      "cell_type": "markdown",
      "metadata": {
        "id": "view-in-github",
        "colab_type": "text"
      },
      "source": [
        "<a href=\"https://colab.research.google.com/github/shravankumargulvadi/Assignment-5/blob/master/Assignment_5.ipynb\" target=\"_parent\"><img src=\"https://colab.research.google.com/assets/colab-badge.svg\" alt=\"Open In Colab\"/></a>"
      ]
    },
    {
      "cell_type": "markdown",
      "metadata": {
        "id": "EAtVfxwIbNJ2",
        "colab_type": "text"
      },
      "source": [
        "# Assignment 5\n",
        "1.Change the code 8 or your own 4th Code from Assignment 4 to include:\n",
        "\n",
        "  1.image normalization:DONE\n",
        "  \n",
        "  2.L2 regularization:DONE\n",
        "  \n",
        "  3.ReLU after BN:DONE\n",
        "  \n",
        "2.Run your new code for 40 epochs and save the model with highest validation accuracy:DONE\n",
        "3.Find out 25 misclassified images from the validation dataset and create an image gallery:DONE\n",
        "\n",
        "Observation: The Max test accuracy instead of improving declined marginally from 99.47 to 97.99. To ascertain the reason behind this, the above changes were carried out individually in isolation and its effects on validation accuracy was monitored. It was found that the addition of L2 regularization had the greatest effect in bringing down the validation accuracy."
      ]
    },
    {
      "cell_type": "markdown",
      "metadata": {
        "id": "aNyZv-Ec52ot",
        "colab_type": "text"
      },
      "source": [
        "# **Import Libraries and modules**"
      ]
    },
    {
      "cell_type": "code",
      "metadata": {
        "id": "3m3w1Cw49Zkt",
        "colab_type": "code",
        "outputId": "288fb2b1-10f9-4e4f-d6c0-2af165bb0170",
        "colab": {
          "base_uri": "https://localhost:8080/",
          "height": 34
        }
      },
      "source": [
        "# https://keras.io/\n",
        "!pip install -q keras\n",
        "import keras"
      ],
      "execution_count": 1,
      "outputs": [
        {
          "output_type": "stream",
          "text": [
            "Using TensorFlow backend.\n"
          ],
          "name": "stderr"
        }
      ]
    },
    {
      "cell_type": "markdown",
      "metadata": {
        "id": "bvcPbJ7vAGad",
        "colab_type": "text"
      },
      "source": [
        "## Importing all the required Modules from keras\n",
        "\n",
        "##Dropout-randomly drops specified proportion of kernels/neurons-helps in overcoming overfitting.\n",
        "All other modules same as in previous assignment"
      ]
    },
    {
      "cell_type": "code",
      "metadata": {
        "id": "Eso6UHE080D4",
        "colab_type": "code",
        "colab": {}
      },
      "source": [
        "import numpy as np\n",
        "\n",
        "from keras.models import Sequential\n",
        "from keras.layers import Dense, Dropout, Activation, Flatten, Add\n",
        "from keras.layers import Convolution2D, MaxPooling2D, BatchNormalization\n",
        "from keras.callbacks import ModelCheckpoint\n",
        "from keras.utils import np_utils\n",
        "\n",
        "from keras.datasets import mnist"
      ],
      "execution_count": 0,
      "outputs": []
    },
    {
      "cell_type": "markdown",
      "metadata": {
        "id": "ZIg-lGeXNQb6",
        "colab_type": "text"
      },
      "source": [
        "## Seeding for Repeatability"
      ]
    },
    {
      "cell_type": "code",
      "metadata": {
        "id": "KbqMXToALgqe",
        "colab_type": "code",
        "colab": {}
      },
      "source": [
        "seed = 7\n",
        "np.random.seed(seed)"
      ],
      "execution_count": 0,
      "outputs": []
    },
    {
      "cell_type": "markdown",
      "metadata": {
        "id": "zByEi95J86RD",
        "colab_type": "text"
      },
      "source": [
        "### Load pre-shuffled MNIST data into train and test sets"
      ]
    },
    {
      "cell_type": "markdown",
      "metadata": {
        "id": "14JWeTigBFec",
        "colab_type": "text"
      },
      "source": [
        "## Splitting the data for training and testing"
      ]
    },
    {
      "cell_type": "code",
      "metadata": {
        "id": "7eRM0QWN83PV",
        "colab_type": "code",
        "colab": {}
      },
      "source": [
        "(X_train, y_train), (X_test, y_test) = mnist.load_data()"
      ],
      "execution_count": 0,
      "outputs": []
    },
    {
      "cell_type": "markdown",
      "metadata": {
        "id": "48u1yVl3BMz9",
        "colab_type": "text"
      },
      "source": [
        "## Printing Size of the image in MNIST and a sample image"
      ]
    },
    {
      "cell_type": "code",
      "metadata": {
        "id": "4a4Be72j8-ZC",
        "colab_type": "code",
        "outputId": "9c75b1b7-210f-4e27-af75-f2db1d97b921",
        "colab": {
          "base_uri": "https://localhost:8080/",
          "height": 303
        }
      },
      "source": [
        "print (X_train.shape)\n",
        "from matplotlib import pyplot as plt\n",
        "%matplotlib inline\n",
        "plt.imshow(X_train[0])"
      ],
      "execution_count": 5,
      "outputs": [
        {
          "output_type": "stream",
          "text": [
            "(60000, 28, 28)\n"
          ],
          "name": "stdout"
        },
        {
          "output_type": "execute_result",
          "data": {
            "text/plain": [
              "<matplotlib.image.AxesImage at 0x7fe2bb6bfe80>"
            ]
          },
          "metadata": {
            "tags": []
          },
          "execution_count": 5
        },
        {
          "output_type": "display_data",
          "data": {
            "image/png": "[encoded data removed]",
            "text/plain": [
              "<Figure size 432x288 with 1 Axes>"
            ]
          },
          "metadata": {
            "tags": []
          }
        }
      ]
    },
    {
      "cell_type": "markdown",
      "metadata": {
        "id": "PkVpL0LEBZJA",
        "colab_type": "text"
      },
      "source": [
        "## Reshaping the MNIST images to 28x28x1"
      ]
    },
    {
      "cell_type": "code",
      "metadata": {
        "id": "dkmprriw9AnZ",
        "colab_type": "code",
        "colab": {}
      },
      "source": [
        "X_train = X_train.reshape(X_train.shape[0], 28, 28,1)\n",
        "X_test = X_test.reshape(X_test.shape[0], 28, 28,1)"
      ],
      "execution_count": 0,
      "outputs": []
    },
    {
      "cell_type": "markdown",
      "metadata": {
        "id": "ACH7AexwBacz",
        "colab_type": "text"
      },
      "source": [
        "## Setting the 'type' to float32 (Decimel) and Normalizing the pixels by deviding it by 255"
      ]
    },
    {
      "cell_type": "code",
      "metadata": {
        "id": "X2m4YS4E9CRh",
        "colab_type": "code",
        "colab": {}
      },
      "source": [
        "X_train = X_train.astype('float32')\n",
        "X_test = X_test.astype('float32')\n",
        "X_train /= 255\n",
        "X_test /= 255"
      ],
      "execution_count": 0,
      "outputs": []
    },
    {
      "cell_type": "code",
      "metadata": {
        "id": "0Mn0vAYD9DvB",
        "colab_type": "code",
        "outputId": "21dd2086-48e8-43cf-cafc-bccceb274a9f",
        "colab": {
          "base_uri": "https://localhost:8080/",
          "height": 34
        }
      },
      "source": [
        "y_train[:10]"
      ],
      "execution_count": 8,
      "outputs": [
        {
          "output_type": "execute_result",
          "data": {
            "text/plain": [
              "array([5, 0, 4, 1, 9, 2, 1, 3, 1, 4], dtype=uint8)"
            ]
          },
          "metadata": {
            "tags": []
          },
          "execution_count": 8
        }
      ]
    },
    {
      "cell_type": "markdown",
      "metadata": {
        "id": "JGD6EkQ1BoM-",
        "colab_type": "text"
      },
      "source": [
        "## Converting the target values to 1 hot encoding"
      ]
    },
    {
      "cell_type": "code",
      "metadata": {
        "id": "ZG8JiXR39FHC",
        "colab_type": "code",
        "colab": {}
      },
      "source": [
        "# Convert 1-dimensional class arrays to 10-dimensional class matrices\n",
        "Y_train = np_utils.to_categorical(y_train, 10)\n",
        "Y_test = np_utils.to_categorical(y_test, 10)"
      ],
      "execution_count": 0,
      "outputs": []
    },
    {
      "cell_type": "code",
      "metadata": {
        "id": "fYlFRvKS9HMB",
        "colab_type": "code",
        "outputId": "ef49941c-0a5d-47d2-c0ba-b814dd82ef39",
        "colab": {
          "base_uri": "https://localhost:8080/",
          "height": 187
        }
      },
      "source": [
        "Y_train[:10]\n"
      ],
      "execution_count": 10,
      "outputs": [
        {
          "output_type": "execute_result",
          "data": {
            "text/plain": [
              "array([[0., 0., 0., 0., 0., 1., 0., 0., 0., 0.],\n",
              "       [1., 0., 0., 0., 0., 0., 0., 0., 0., 0.],\n",
              "       [0., 0., 0., 0., 1., 0., 0., 0., 0., 0.],\n",
              "       [0., 1., 0., 0., 0., 0., 0., 0., 0., 0.],\n",
              "       [0., 0., 0., 0., 0., 0., 0., 0., 0., 1.],\n",
              "       [0., 0., 1., 0., 0., 0., 0., 0., 0., 0.],\n",
              "       [0., 1., 0., 0., 0., 0., 0., 0., 0., 0.],\n",
              "       [0., 0., 0., 1., 0., 0., 0., 0., 0., 0.],\n",
              "       [0., 1., 0., 0., 0., 0., 0., 0., 0., 0.],\n",
              "       [0., 0., 0., 0., 1., 0., 0., 0., 0., 0.]], dtype=float32)"
            ]
          },
          "metadata": {
            "tags": []
          },
          "execution_count": 10
        }
      ]
    },
    {
      "cell_type": "markdown",
      "metadata": {
        "id": "qDQflGCxrP_6",
        "colab_type": "text"
      },
      "source": [
        "## Normalizing Training and Test Data"
      ]
    },
    {
      "cell_type": "code",
      "metadata": {
        "id": "r9jI0npxTE9_",
        "colab_type": "code",
        "colab": {}
      },
      "source": [
        "for i in range(60000):\n",
        " mean=np.mean(X_train[i], axis=0)\n",
        " sd=np.std(X_train[i])\n",
        " X_train[i]= (X_train[i]-mean)/sd"
      ],
      "execution_count": 0,
      "outputs": []
    },
    {
      "cell_type": "code",
      "metadata": {
        "id": "941c13SVqjWr",
        "colab_type": "code",
        "colab": {}
      },
      "source": [
        "for i in range(10000):\n",
        " mean=np.mean(X_test[i], axis=0)\n",
        " sd=np.std(X_test[i])\n",
        " X_test[i]= (X_test[i]-mean)/sd"
      ],
      "execution_count": 0,
      "outputs": []
    },
    {
      "cell_type": "code",
      "metadata": {
        "id": "8waI1ZxvW1LZ",
        "colab_type": "code",
        "outputId": "12d29bec-76e3-42c4-b236-a6279a9cec2a",
        "colab": {
          "base_uri": "https://localhost:8080/",
          "height": 303
        }
      },
      "source": [
        "\n",
        "print (X_train.shape)\n",
        "from matplotlib import pyplot as plt\n",
        "%matplotlib inline\n",
        "plt.imshow(X_train[0].reshape(28,28))"
      ],
      "execution_count": 13,
      "outputs": [
        {
          "output_type": "stream",
          "text": [
            "(60000, 28, 28, 1)\n"
          ],
          "name": "stdout"
        },
        {
          "output_type": "execute_result",
          "data": {
            "text/plain": [
              "<matplotlib.image.AxesImage at 0x7fe2b8e5f2b0>"
            ]
          },
          "metadata": {
            "tags": []
          },
          "execution_count": 13
        },
        {
          "output_type": "display_data",
          "data": {
            "image/png": "[encoded data removed]",
            "text/plain": [
              "<Figure size 432x288 with 1 Axes>"
            ]
          },
          "metadata": {
            "tags": []
          }
        }
      ]
    },
    {
      "cell_type": "markdown",
      "metadata": {
        "id": "-GMenzKyBxrp",
        "colab_type": "text"
      },
      "source": [
        "## Building the main model"
      ]
    },
    {
      "cell_type": "code",
      "metadata": {
        "id": "osKqT73Q9JJB",
        "colab_type": "code",
        "outputId": "2fcfb7c0-0543-4515-ba5d-8e3af7841583",
        "colab": {
          "base_uri": "https://localhost:8080/",
          "height": 326
        }
      },
      "source": [
        "from keras.layers import Activation\n",
        "model = Sequential()\n",
        " \n",
        "model.add(Convolution2D(10, 3, 3, input_shape=(28,28,1), kernel_regularizer= keras.regularizers.l2(0.01))) #26\n",
        "model.add(BatchNormalization())\n",
        "model.add(Activation('relu'))\n",
        "model.add(Dropout(0.05))\n",
        "\n",
        "model.add(Convolution2D(16, 3, 3, kernel_regularizer= keras.regularizers.l2(0.01))) #24\n",
        "model.add(BatchNormalization())\n",
        "model.add(Activation('relu'))\n",
        "model.add(Dropout(0.05))\n",
        "\n",
        "model.add(Convolution2D(10, 1, 1, kernel_regularizer= keras.regularizers.l2(0.01))) #24\n",
        "model.add(MaxPooling2D(pool_size=(2, 2)))#12\n",
        "\n",
        "model.add(Convolution2D(14, 3, 3, kernel_regularizer= keras.regularizers.l2(0.01)))#10\n",
        "model.add(BatchNormalization())\n",
        "model.add(Activation('relu'))\n",
        "model.add(Dropout(0.1))\n",
        "\n",
        "\n",
        "model.add(Convolution2D(16, 3, 3, kernel_regularizer= keras.regularizers.l2(0.01)))#8\n",
        "model.add(BatchNormalization())\n",
        "model.add(Activation('relu'))\n",
        "model.add(Dropout(0.1))\n",
        "\n",
        "\n",
        "model.add(Convolution2D(18, 3, 3, kernel_regularizer= keras.regularizers.l2(0.01)))#6\n",
        "model.add(BatchNormalization())\n",
        "model.add(Activation('relu'))\n",
        "model.add(Dropout(0.1))\n",
        "\n",
        "\n",
        "\n",
        "model.add(Convolution2D(20, 3, 3, kernel_regularizer= keras.regularizers.l2(0.01)))#4\n",
        "model.add(BatchNormalization())\n",
        "model.add(Activation('relu'))\n",
        "model.add(Dropout(0.05))\n",
        "\n",
        "\n",
        "\n",
        "model.add(Convolution2D(10, 4, 4))  #1\n",
        "\n",
        "\n",
        "model.add(Flatten())\n",
        "model.add(Activation('softmax'))\n",
        "\n"
      ],
      "execution_count": 14,
      "outputs": [
        {
          "output_type": "stream",
          "text": [
            "WARNING:tensorflow:From /usr/local/lib/python3.6/dist-packages/tensorflow/python/framework/op_def_library.py:263: colocate_with (from tensorflow.python.framework.ops) is deprecated and will be removed in a future version.\n",
            "Instructions for updating:\n",
            "Colocations handled automatically by placer.\n"
          ],
          "name": "stdout"
        },
        {
          "output_type": "stream",
          "text": [
            "/usr/local/lib/python3.6/dist-packages/ipykernel_launcher.py:4: UserWarning: Update your `Conv2D` call to the Keras 2 API: `Conv2D(10, (3, 3), input_shape=(28, 28, 1..., kernel_regularizer=<keras.reg...)`\n",
            "  after removing the cwd from sys.path.\n"
          ],
          "name": "stderr"
        },
        {
          "output_type": "stream",
          "text": [
            "WARNING:tensorflow:From /usr/local/lib/python3.6/dist-packages/keras/backend/tensorflow_backend.py:3445: calling dropout (from tensorflow.python.ops.nn_ops) with keep_prob is deprecated and will be removed in a future version.\n",
            "Instructions for updating:\n",
            "Please use `rate` instead of `keep_prob`. Rate should be set to `rate = 1 - keep_prob`.\n"
          ],
          "name": "stdout"
        },
        {
          "output_type": "stream",
          "text": [
            "/usr/local/lib/python3.6/dist-packages/ipykernel_launcher.py:9: UserWarning: Update your `Conv2D` call to the Keras 2 API: `Conv2D(16, (3, 3), kernel_regularizer=<keras.reg...)`\n",
            "  if __name__ == '__main__':\n",
            "/usr/local/lib/python3.6/dist-packages/ipykernel_launcher.py:14: UserWarning: Update your `Conv2D` call to the Keras 2 API: `Conv2D(10, (1, 1), kernel_regularizer=<keras.reg...)`\n",
            "  \n",
            "/usr/local/lib/python3.6/dist-packages/ipykernel_launcher.py:17: UserWarning: Update your `Conv2D` call to the Keras 2 API: `Conv2D(14, (3, 3), kernel_regularizer=<keras.reg...)`\n",
            "/usr/local/lib/python3.6/dist-packages/ipykernel_launcher.py:23: UserWarning: Update your `Conv2D` call to the Keras 2 API: `Conv2D(16, (3, 3), kernel_regularizer=<keras.reg...)`\n",
            "/usr/local/lib/python3.6/dist-packages/ipykernel_launcher.py:29: UserWarning: Update your `Conv2D` call to the Keras 2 API: `Conv2D(18, (3, 3), kernel_regularizer=<keras.reg...)`\n",
            "/usr/local/lib/python3.6/dist-packages/ipykernel_launcher.py:36: UserWarning: Update your `Conv2D` call to the Keras 2 API: `Conv2D(20, (3, 3), kernel_regularizer=<keras.reg...)`\n",
            "/usr/local/lib/python3.6/dist-packages/ipykernel_launcher.py:43: UserWarning: Update your `Conv2D` call to the Keras 2 API: `Conv2D(10, (4, 4))`\n"
          ],
          "name": "stderr"
        }
      ]
    },
    {
      "cell_type": "code",
      "metadata": {
        "id": "TzdAYg1k9K7Z",
        "colab_type": "code",
        "outputId": "de969f78-6d35-4261-de37-a26b0c9582a1",
        "colab": {
          "base_uri": "https://localhost:8080/",
          "height": 1122
        }
      },
      "source": [
        "model.summary()"
      ],
      "execution_count": 15,
      "outputs": [
        {
          "output_type": "stream",
          "text": [
            "_________________________________________________________________\n",
            "Layer (type)                 Output Shape              Param #   \n",
            "=================================================================\n",
            "conv2d_1 (Conv2D)            (None, 26, 26, 10)        100       \n",
            "_________________________________________________________________\n",
            "batch_normalization_1 (Batch (None, 26, 26, 10)        40        \n",
            "_________________________________________________________________\n",
            "activation_1 (Activation)    (None, 26, 26, 10)        0         \n",
            "_________________________________________________________________\n",
            "dropout_1 (Dropout)          (None, 26, 26, 10)        0         \n",
            "_________________________________________________________________\n",
            "conv2d_2 (Conv2D)            (None, 24, 24, 16)        1456      \n",
            "_________________________________________________________________\n",
            "batch_normalization_2 (Batch (None, 24, 24, 16)        64        \n",
            "_________________________________________________________________\n",
            "activation_2 (Activation)    (None, 24, 24, 16)        0         \n",
            "_________________________________________________________________\n",
            "dropout_2 (Dropout)          (None, 24, 24, 16)        0         \n",
            "_________________________________________________________________\n",
            "conv2d_3 (Conv2D)            (None, 24, 24, 10)        170       \n",
            "_________________________________________________________________\n",
            "max_pooling2d_1 (MaxPooling2 (None, 12, 12, 10)        0         \n",
            "_________________________________________________________________\n",
            "conv2d_4 (Conv2D)            (None, 10, 10, 14)        1274      \n",
            "_________________________________________________________________\n",
            "batch_normalization_3 (Batch (None, 10, 10, 14)        56        \n",
            "_________________________________________________________________\n",
            "activation_3 (Activation)    (None, 10, 10, 14)        0         \n",
            "_________________________________________________________________\n",
            "dropout_3 (Dropout)          (None, 10, 10, 14)        0         \n",
            "_________________________________________________________________\n",
            "conv2d_5 (Conv2D)            (None, 8, 8, 16)          2032      \n",
            "_________________________________________________________________\n",
            "batch_normalization_4 (Batch (None, 8, 8, 16)          64        \n",
            "_________________________________________________________________\n",
            "activation_4 (Activation)    (None, 8, 8, 16)          0         \n",
            "_________________________________________________________________\n",
            "dropout_4 (Dropout)          (None, 8, 8, 16)          0         \n",
            "_________________________________________________________________\n",
            "conv2d_6 (Conv2D)            (None, 6, 6, 18)          2610      \n",
            "_________________________________________________________________\n",
            "batch_normalization_5 (Batch (None, 6, 6, 18)          72        \n",
            "_________________________________________________________________\n",
            "activation_5 (Activation)    (None, 6, 6, 18)          0         \n",
            "_________________________________________________________________\n",
            "dropout_5 (Dropout)          (None, 6, 6, 18)          0         \n",
            "_________________________________________________________________\n",
            "conv2d_7 (Conv2D)            (None, 4, 4, 20)          3260      \n",
            "_________________________________________________________________\n",
            "batch_normalization_6 (Batch (None, 4, 4, 20)          80        \n",
            "_________________________________________________________________\n",
            "activation_6 (Activation)    (None, 4, 4, 20)          0         \n",
            "_________________________________________________________________\n",
            "dropout_6 (Dropout)          (None, 4, 4, 20)          0         \n",
            "_________________________________________________________________\n",
            "conv2d_8 (Conv2D)            (None, 1, 1, 10)          3210      \n",
            "_________________________________________________________________\n",
            "flatten_1 (Flatten)          (None, 10)                0         \n",
            "_________________________________________________________________\n",
            "activation_7 (Activation)    (None, 10)                0         \n",
            "=================================================================\n",
            "Total params: 14,488\n",
            "Trainable params: 14,300\n",
            "Non-trainable params: 188\n",
            "_________________________________________________________________\n"
          ],
          "name": "stdout"
        }
      ]
    },
    {
      "cell_type": "markdown",
      "metadata": {
        "id": "egu3Z7N1B-Gk",
        "colab_type": "text"
      },
      "source": [
        "## Configuring the model for training\n",
        "1.Loss- Is a measure of error and is the function which is to be minimized by the optimizer\n",
        "\n",
        "2.Optimizer- optimizes the result by updating the weights in accordance with the loss\n",
        "\n",
        "3. Metrics-A metric is a function that is used to judge the performance of the model"
      ]
    },
    {
      "cell_type": "code",
      "metadata": {
        "id": "Zp6SuGrL9M3h",
        "colab_type": "code",
        "colab": {}
      },
      "source": [
        "from keras.optimizers import Adam\n",
        "from keras.callbacks import LearningRateScheduler\n",
        "def scheduler(epoch, lr):\n",
        "  return round(0.003 * 1/(1 + 0.319 * epoch), 10)\n",
        "\n",
        "\n",
        "model.compile(loss='categorical_crossentropy', optimizer=Adam(lr=0.003), metrics=['accuracy'])\n"
      ],
      "execution_count": 0,
      "outputs": []
    },
    {
      "cell_type": "markdown",
      "metadata": {
        "id": "QonWkHDBNDyY",
        "colab_type": "text"
      },
      "source": [
        "## Creating Checkpoints to save the best weights"
      ]
    },
    {
      "cell_type": "code",
      "metadata": {
        "id": "r4PhhHH3EC2_",
        "colab_type": "code",
        "colab": {}
      },
      "source": [
        "filepath=\"weights.best.hdf5\"\n",
        "checkpoint = ModelCheckpoint(filepath, monitor='val_acc', verbose=1, save_best_only=True, mode='max')\n",
        "callbacks_list = [checkpoint]"
      ],
      "execution_count": 0,
      "outputs": []
    },
    {
      "cell_type": "markdown",
      "metadata": {
        "id": "CRcfivezCNBp",
        "colab_type": "text"
      },
      "source": [
        "## Model training begins on training data witha each batch containing 32 images and no of epochs is 50"
      ]
    },
    {
      "cell_type": "code",
      "metadata": {
        "id": "4xWoKhPY9Of5",
        "colab_type": "code",
        "outputId": "5cc20b96-6e35-4cff-836c-ffd68bfa1805",
        "colab": {
          "base_uri": "https://localhost:8080/",
          "height": 2876
        }
      },
      "source": [
        "model.fit(X_train, Y_train, batch_size=32, nb_epoch=40, verbose=1, validation_data=(X_test, Y_test), callbacks=callbacks_list)"
      ],
      "execution_count": 18,
      "outputs": [
        {
          "output_type": "stream",
          "text": [
            "WARNING:tensorflow:From /usr/local/lib/python3.6/dist-packages/tensorflow/python/ops/math_ops.py:3066: to_int32 (from tensorflow.python.ops.math_ops) is deprecated and will be removed in a future version.\n",
            "Instructions for updating:\n",
            "Use tf.cast instead.\n"
          ],
          "name": "stdout"
        },
        {
          "output_type": "stream",
          "text": [
            "/usr/local/lib/python3.6/dist-packages/ipykernel_launcher.py:1: UserWarning: The `nb_epoch` argument in `fit` has been renamed `epochs`.\n",
            "  \"\"\"Entry point for launching an IPython kernel.\n"
          ],
          "name": "stderr"
        },
        {
          "output_type": "stream",
          "text": [
            "Train on 60000 samples, validate on 10000 samples\n",
            "Epoch 1/40\n",
            "60000/60000 [==============================] - 26s 435us/step - loss: 0.4122 - acc: 0.9384 - val_loss: 0.4616 - val_acc: 0.8934\n",
            "\n",
            "Epoch 00001: val_acc improved from -inf to 0.89340, saving model to weights.best.hdf5\n",
            "Epoch 2/40\n",
            "60000/60000 [==============================] - 24s 393us/step - loss: 0.2566 - acc: 0.9616 - val_loss: 0.2174 - val_acc: 0.9690\n",
            "\n",
            "Epoch 00002: val_acc improved from 0.89340 to 0.96900, saving model to weights.best.hdf5\n",
            "Epoch 3/40\n",
            "60000/60000 [==============================] - 23s 378us/step - loss: 0.2379 - acc: 0.9641 - val_loss: 0.2800 - val_acc: 0.9454\n",
            "\n",
            "Epoch 00003: val_acc did not improve from 0.96900\n",
            "Epoch 4/40\n",
            "60000/60000 [==============================] - 22s 372us/step - loss: 0.2278 - acc: 0.9635 - val_loss: 0.2104 - val_acc: 0.9712\n",
            "\n",
            "Epoch 00004: val_acc improved from 0.96900 to 0.97120, saving model to weights.best.hdf5\n",
            "Epoch 5/40\n",
            "60000/60000 [==============================] - 22s 375us/step - loss: 0.2176 - acc: 0.9644 - val_loss: 0.2347 - val_acc: 0.9604\n",
            "\n",
            "Epoch 00005: val_acc did not improve from 0.97120\n",
            "Epoch 6/40\n",
            "60000/60000 [==============================] - 23s 376us/step - loss: 0.2063 - acc: 0.9661 - val_loss: 0.2550 - val_acc: 0.9488\n",
            "\n",
            "Epoch 00006: val_acc did not improve from 0.97120\n",
            "Epoch 7/40\n",
            "60000/60000 [==============================] - 23s 377us/step - loss: 0.2003 - acc: 0.9668 - val_loss: 0.2425 - val_acc: 0.9520\n",
            "\n",
            "Epoch 00007: val_acc did not improve from 0.97120\n",
            "Epoch 8/40\n",
            "60000/60000 [==============================] - 23s 379us/step - loss: 0.2062 - acc: 0.9657 - val_loss: 0.2400 - val_acc: 0.9558\n",
            "\n",
            "Epoch 00008: val_acc did not improve from 0.97120\n",
            "Epoch 9/40\n",
            "60000/60000 [==============================] - 22s 368us/step - loss: 0.2013 - acc: 0.9661 - val_loss: 0.1677 - val_acc: 0.9762\n",
            "\n",
            "Epoch 00009: val_acc improved from 0.97120 to 0.97620, saving model to weights.best.hdf5\n",
            "Epoch 10/40\n",
            "60000/60000 [==============================] - 22s 369us/step - loss: 0.1967 - acc: 0.9669 - val_loss: 0.1874 - val_acc: 0.9715\n",
            "\n",
            "Epoch 00010: val_acc did not improve from 0.97620\n",
            "Epoch 11/40\n",
            "60000/60000 [==============================] - 22s 374us/step - loss: 0.1969 - acc: 0.9670 - val_loss: 0.1991 - val_acc: 0.9672\n",
            "\n",
            "Epoch 00011: val_acc did not improve from 0.97620\n",
            "Epoch 12/40\n",
            "60000/60000 [==============================] - 23s 378us/step - loss: 0.1948 - acc: 0.9673 - val_loss: 0.1725 - val_acc: 0.9740\n",
            "\n",
            "Epoch 00012: val_acc did not improve from 0.97620\n",
            "Epoch 13/40\n",
            "60000/60000 [==============================] - 22s 370us/step - loss: 0.1926 - acc: 0.9677 - val_loss: 0.1968 - val_acc: 0.9696\n",
            "\n",
            "Epoch 00013: val_acc did not improve from 0.97620\n",
            "Epoch 14/40\n",
            "60000/60000 [==============================] - 22s 370us/step - loss: 0.1925 - acc: 0.9679 - val_loss: 0.2682 - val_acc: 0.9417\n",
            "\n",
            "Epoch 00014: val_acc did not improve from 0.97620\n",
            "Epoch 15/40\n",
            "60000/60000 [==============================] - 22s 374us/step - loss: 0.1934 - acc: 0.9679 - val_loss: 0.2769 - val_acc: 0.9399\n",
            "\n",
            "Epoch 00015: val_acc did not improve from 0.97620\n",
            "Epoch 16/40\n",
            "60000/60000 [==============================] - 23s 380us/step - loss: 0.1928 - acc: 0.9671 - val_loss: 0.1958 - val_acc: 0.9649\n",
            "\n",
            "Epoch 00016: val_acc did not improve from 0.97620\n",
            "Epoch 17/40\n",
            "60000/60000 [==============================] - 22s 366us/step - loss: 0.1881 - acc: 0.9687 - val_loss: 0.1785 - val_acc: 0.9738\n",
            "\n",
            "Epoch 00017: val_acc did not improve from 0.97620\n",
            "Epoch 18/40\n",
            "60000/60000 [==============================] - 22s 374us/step - loss: 0.1914 - acc: 0.9677 - val_loss: 0.1805 - val_acc: 0.9735\n",
            "\n",
            "Epoch 00018: val_acc did not improve from 0.97620\n",
            "Epoch 19/40\n",
            "60000/60000 [==============================] - 22s 372us/step - loss: 0.1929 - acc: 0.9673 - val_loss: 0.2322 - val_acc: 0.9579\n",
            "\n",
            "Epoch 00019: val_acc did not improve from 0.97620\n",
            "Epoch 20/40\n",
            "60000/60000 [==============================] - 23s 377us/step - loss: 0.1903 - acc: 0.9680 - val_loss: 0.1497 - val_acc: 0.9815\n",
            "\n",
            "Epoch 00020: val_acc improved from 0.97620 to 0.98150, saving model to weights.best.hdf5\n",
            "Epoch 21/40\n",
            "60000/60000 [==============================] - 23s 380us/step - loss: 0.1883 - acc: 0.9681 - val_loss: 0.1763 - val_acc: 0.9728\n",
            "\n",
            "Epoch 00021: val_acc did not improve from 0.98150\n",
            "Epoch 22/40\n",
            "60000/60000 [==============================] - 23s 384us/step - loss: 0.1885 - acc: 0.9677 - val_loss: 0.1650 - val_acc: 0.9738\n",
            "\n",
            "Epoch 00022: val_acc did not improve from 0.98150\n",
            "Epoch 23/40\n",
            "60000/60000 [==============================] - 22s 375us/step - loss: 0.1930 - acc: 0.9666 - val_loss: 0.2135 - val_acc: 0.9607\n",
            "\n",
            "Epoch 00023: val_acc did not improve from 0.98150\n",
            "Epoch 24/40\n",
            "60000/60000 [==============================] - 23s 382us/step - loss: 0.1841 - acc: 0.9691 - val_loss: 0.2558 - val_acc: 0.9441\n",
            "\n",
            "Epoch 00024: val_acc did not improve from 0.98150\n",
            "Epoch 25/40\n",
            "60000/60000 [==============================] - 22s 367us/step - loss: 0.1873 - acc: 0.9676 - val_loss: 0.1556 - val_acc: 0.9758\n",
            "\n",
            "Epoch 00025: val_acc did not improve from 0.98150\n",
            "Epoch 26/40\n",
            "60000/60000 [==============================] - 23s 380us/step - loss: 0.1859 - acc: 0.9682 - val_loss: 0.1634 - val_acc: 0.9747\n",
            "\n",
            "Epoch 00026: val_acc did not improve from 0.98150\n",
            "Epoch 27/40\n",
            "60000/60000 [==============================] - 22s 366us/step - loss: 0.1864 - acc: 0.9680 - val_loss: 0.1993 - val_acc: 0.9644\n",
            "\n",
            "Epoch 00027: val_acc did not improve from 0.98150\n",
            "Epoch 28/40\n",
            "60000/60000 [==============================] - 22s 371us/step - loss: 0.1860 - acc: 0.9681 - val_loss: 0.2015 - val_acc: 0.9628\n",
            "\n",
            "Epoch 00028: val_acc did not improve from 0.98150\n",
            "Epoch 29/40\n",
            "60000/60000 [==============================] - 23s 382us/step - loss: 0.1867 - acc: 0.9678 - val_loss: 0.2008 - val_acc: 0.9620\n",
            "\n",
            "Epoch 00029: val_acc did not improve from 0.98150\n",
            "Epoch 30/40\n",
            "60000/60000 [==============================] - 24s 394us/step - loss: 0.1822 - acc: 0.9685 - val_loss: 0.1766 - val_acc: 0.9705\n",
            "\n",
            "Epoch 00030: val_acc did not improve from 0.98150\n",
            "Epoch 31/40\n",
            "60000/60000 [==============================] - 23s 388us/step - loss: 0.1849 - acc: 0.9677 - val_loss: 0.1715 - val_acc: 0.9709\n",
            "\n",
            "Epoch 00031: val_acc did not improve from 0.98150\n",
            "Epoch 32/40\n",
            "60000/60000 [==============================] - 23s 377us/step - loss: 0.1854 - acc: 0.9689 - val_loss: 0.1898 - val_acc: 0.9663\n",
            "\n",
            "Epoch 00032: val_acc did not improve from 0.98150\n",
            "Epoch 33/40\n",
            "60000/60000 [==============================] - 23s 379us/step - loss: 0.1843 - acc: 0.9681 - val_loss: 0.1905 - val_acc: 0.9641\n",
            "\n",
            "Epoch 00033: val_acc did not improve from 0.98150\n",
            "Epoch 34/40\n",
            "60000/60000 [==============================] - 22s 374us/step - loss: 0.1825 - acc: 0.9683 - val_loss: 0.1875 - val_acc: 0.9661\n",
            "\n",
            "Epoch 00034: val_acc did not improve from 0.98150\n",
            "Epoch 35/40\n",
            "60000/60000 [==============================] - 22s 371us/step - loss: 0.1840 - acc: 0.9679 - val_loss: 0.2002 - val_acc: 0.9608\n",
            "\n",
            "Epoch 00035: val_acc did not improve from 0.98150\n",
            "Epoch 36/40\n",
            "60000/60000 [==============================] - 22s 365us/step - loss: 0.1839 - acc: 0.9683 - val_loss: 0.1793 - val_acc: 0.9705\n",
            "\n",
            "Epoch 00036: val_acc did not improve from 0.98150\n",
            "Epoch 37/40\n",
            "60000/60000 [==============================] - 22s 373us/step - loss: 0.1811 - acc: 0.9686 - val_loss: 0.1657 - val_acc: 0.9743\n",
            "\n",
            "Epoch 00037: val_acc did not improve from 0.98150\n",
            "Epoch 38/40\n",
            "60000/60000 [==============================] - 23s 381us/step - loss: 0.1812 - acc: 0.9685 - val_loss: 0.1858 - val_acc: 0.9685\n",
            "\n",
            "Epoch 00038: val_acc did not improve from 0.98150\n",
            "Epoch 39/40\n",
            "60000/60000 [==============================] - 23s 382us/step - loss: 0.1793 - acc: 0.9691 - val_loss: 0.1897 - val_acc: 0.9630\n",
            "\n",
            "Epoch 00039: val_acc did not improve from 0.98150\n",
            "Epoch 40/40\n",
            "60000/60000 [==============================] - 23s 387us/step - loss: 0.1828 - acc: 0.9693 - val_loss: 0.2705 - val_acc: 0.9439\n",
            "\n",
            "Epoch 00040: val_acc did not improve from 0.98150\n"
          ],
          "name": "stdout"
        },
        {
          "output_type": "execute_result",
          "data": {
            "text/plain": [
              "<keras.callbacks.History at 0x7fe2b8e5f898>"
            ]
          },
          "metadata": {
            "tags": []
          },
          "execution_count": 18
        }
      ]
    },
    {
      "cell_type": "markdown",
      "metadata": {
        "id": "XIMLQiW-P4q3",
        "colab_type": "text"
      },
      "source": [
        "# Reloading the weights corresponding to the highest Validation accuracy and running it on the test data"
      ]
    },
    {
      "cell_type": "code",
      "metadata": {
        "id": "9tvptcn8dxvp",
        "colab_type": "code",
        "colab": {}
      },
      "source": [
        "import numpy as np\n",
        "\n",
        "from keras.models import Sequential\n",
        "from keras.layers import Dense, Dropout, Activation, Flatten, Add\n",
        "from keras.layers import Convolution2D, MaxPooling2D\n",
        "from keras.callbacks import ModelCheckpoint\n",
        "from keras.utils import np_utils\n",
        "\n",
        "from keras.datasets import mnist"
      ],
      "execution_count": 0,
      "outputs": []
    },
    {
      "cell_type": "code",
      "metadata": {
        "id": "0fQKgs9WKMHG",
        "colab_type": "code",
        "colab": {}
      },
      "source": [
        "seed = 7\n",
        "np.random.seed(seed)"
      ],
      "execution_count": 0,
      "outputs": []
    },
    {
      "cell_type": "code",
      "metadata": {
        "id": "pIXM4WT8ImnG",
        "colab_type": "code",
        "colab": {}
      },
      "source": [
        "(X_train, y_train), (X_test, y_test) = mnist.load_data()"
      ],
      "execution_count": 0,
      "outputs": []
    },
    {
      "cell_type": "code",
      "metadata": {
        "id": "OKq1v6zjJLWH",
        "colab_type": "code",
        "colab": {}
      },
      "source": [
        "X_train = X_train.reshape(X_train.shape[0], 28, 28,1)\n",
        "X_test = X_test.reshape(X_test.shape[0], 28, 28,1)"
      ],
      "execution_count": 0,
      "outputs": []
    },
    {
      "cell_type": "code",
      "metadata": {
        "id": "sTeQH00eJRJ8",
        "colab_type": "code",
        "colab": {}
      },
      "source": [
        "X_train = X_train.astype('float32')\n",
        "X_test = X_test.astype('float32')\n",
        "X_train /= 255\n",
        "X_test /= 255"
      ],
      "execution_count": 0,
      "outputs": []
    },
    {
      "cell_type": "code",
      "metadata": {
        "id": "s8ubEvFIJW0U",
        "colab_type": "code",
        "colab": {}
      },
      "source": [
        "# Convert 1-dimensional class arrays to 10-dimensional class matrices\n",
        "Y_train = np_utils.to_categorical(y_train, 10)\n",
        "Y_test = np_utils.to_categorical(y_test, 10)"
      ],
      "execution_count": 0,
      "outputs": []
    },
    {
      "cell_type": "code",
      "metadata": {
        "id": "P03dQ3DWdZSr",
        "colab_type": "code",
        "colab": {}
      },
      "source": [
        "for i in range(10000):\n",
        " mean=np.mean(X_test[i], axis=0)\n",
        " sd=np.std(X_test[i])\n",
        " X_test[i]= (X_test[i]-mean)/sd"
      ],
      "execution_count": 0,
      "outputs": []
    },
    {
      "cell_type": "code",
      "metadata": {
        "id": "f5oaw_tUJc4t",
        "colab_type": "code",
        "outputId": "45f6db0c-ee49-44a6-832a-ef75a1a3a098",
        "colab": {
          "base_uri": "https://localhost:8080/",
          "height": 224
        }
      },
      "source": [
        " from keras.layers import Activation\n",
        "model = Sequential()\n",
        " \n",
        "model.add(Convolution2D(10, 3, 3, input_shape=(28,28,1), kernel_regularizer= keras.regularizers.l2(0.01))) #26\n",
        "model.add(BatchNormalization())\n",
        "model.add(Activation('relu'))\n",
        "model.add(Dropout(0.05))\n",
        "\n",
        "model.add(Convolution2D(16, 3, 3, kernel_regularizer= keras.regularizers.l2(0.01))) #24\n",
        "model.add(BatchNormalization())\n",
        "model.add(Activation('relu'))\n",
        "model.add(Dropout(0.05))\n",
        "\n",
        "model.add(Convolution2D(10, 1, 1, kernel_regularizer= keras.regularizers.l2(0.01))) #24\n",
        "model.add(MaxPooling2D(pool_size=(2, 2)))#12\n",
        "\n",
        "model.add(Convolution2D(14, 3, 3, kernel_regularizer= keras.regularizers.l2(0.01)))#10\n",
        "model.add(BatchNormalization())\n",
        "model.add(Activation('relu'))\n",
        "model.add(Dropout(0.1))\n",
        "\n",
        "\n",
        "model.add(Convolution2D(16, 3, 3, kernel_regularizer= keras.regularizers.l2(0.01)))#8\n",
        "model.add(BatchNormalization())\n",
        "model.add(Activation('relu'))\n",
        "model.add(Dropout(0.1))\n",
        "\n",
        "\n",
        "model.add(Convolution2D(18, 3, 3, kernel_regularizer= keras.regularizers.l2(0.01)))#6\n",
        "model.add(BatchNormalization())\n",
        "model.add(Activation('relu'))\n",
        "model.add(Dropout(0.1))\n",
        "\n",
        "\n",
        "\n",
        "model.add(Convolution2D(20, 3, 3, kernel_regularizer= keras.regularizers.l2(0.01)))#4\n",
        "model.add(BatchNormalization())\n",
        "model.add(Activation('relu'))\n",
        "model.add(Dropout(0.05))\n",
        "\n",
        "\n",
        "\n",
        "model.add(Convolution2D(10, 4, 4))  #1\n",
        "\n",
        "\n",
        "model.add(Flatten())\n",
        "model.add(Activation('softmax'))\n",
        "\n"
      ],
      "execution_count": 95,
      "outputs": [
        {
          "output_type": "stream",
          "text": [
            "/usr/local/lib/python3.6/dist-packages/ipykernel_launcher.py:4: UserWarning: Update your `Conv2D` call to the Keras 2 API: `Conv2D(10, (3, 3), input_shape=(28, 28, 1..., kernel_regularizer=<keras.reg...)`\n",
            "  after removing the cwd from sys.path.\n",
            "/usr/local/lib/python3.6/dist-packages/ipykernel_launcher.py:9: UserWarning: Update your `Conv2D` call to the Keras 2 API: `Conv2D(16, (3, 3), kernel_regularizer=<keras.reg...)`\n",
            "  if __name__ == '__main__':\n",
            "/usr/local/lib/python3.6/dist-packages/ipykernel_launcher.py:14: UserWarning: Update your `Conv2D` call to the Keras 2 API: `Conv2D(10, (1, 1), kernel_regularizer=<keras.reg...)`\n",
            "  \n",
            "/usr/local/lib/python3.6/dist-packages/ipykernel_launcher.py:17: UserWarning: Update your `Conv2D` call to the Keras 2 API: `Conv2D(14, (3, 3), kernel_regularizer=<keras.reg...)`\n",
            "/usr/local/lib/python3.6/dist-packages/ipykernel_launcher.py:23: UserWarning: Update your `Conv2D` call to the Keras 2 API: `Conv2D(16, (3, 3), kernel_regularizer=<keras.reg...)`\n",
            "/usr/local/lib/python3.6/dist-packages/ipykernel_launcher.py:29: UserWarning: Update your `Conv2D` call to the Keras 2 API: `Conv2D(18, (3, 3), kernel_regularizer=<keras.reg...)`\n",
            "/usr/local/lib/python3.6/dist-packages/ipykernel_launcher.py:36: UserWarning: Update your `Conv2D` call to the Keras 2 API: `Conv2D(20, (3, 3), kernel_regularizer=<keras.reg...)`\n",
            "/usr/local/lib/python3.6/dist-packages/ipykernel_launcher.py:43: UserWarning: Update your `Conv2D` call to the Keras 2 API: `Conv2D(10, (4, 4))`\n"
          ],
          "name": "stderr"
        }
      ]
    },
    {
      "cell_type": "code",
      "metadata": {
        "id": "gLTvpWq3Jl6Y",
        "colab_type": "code",
        "colab": {}
      },
      "source": [
        "model.load_weights(\"weights.best.hdf5\")"
      ],
      "execution_count": 0,
      "outputs": []
    },
    {
      "cell_type": "code",
      "metadata": {
        "id": "H4CfSJwiJwpI",
        "colab_type": "code",
        "colab": {}
      },
      "source": [
        "model.compile(loss='categorical_crossentropy',\n",
        "             optimizer='adam',\n",
        "             metrics=['accuracy'])"
      ],
      "execution_count": 0,
      "outputs": []
    },
    {
      "cell_type": "markdown",
      "metadata": {
        "id": "HmyCiC0OQ3lx",
        "colab_type": "text"
      },
      "source": [
        "## Evaluate and Print score"
      ]
    },
    {
      "cell_type": "code",
      "metadata": {
        "id": "ZIaU6XmcJ2ya",
        "colab_type": "code",
        "colab": {}
      },
      "source": [
        "score = model.evaluate(X_test, Y_test, verbose=0)"
      ],
      "execution_count": 0,
      "outputs": []
    },
    {
      "cell_type": "code",
      "metadata": {
        "id": "km8pGZu0J7KU",
        "colab_type": "code",
        "outputId": "dc3f37c2-6969-4153-bdbd-60a116b27da9",
        "colab": {
          "base_uri": "https://localhost:8080/",
          "height": 34
        }
      },
      "source": [
        "print(score)"
      ],
      "execution_count": 99,
      "outputs": [
        {
          "output_type": "stream",
          "text": [
            "[0.15552259485721587, 0.9799]\n"
          ],
          "name": "stdout"
        }
      ]
    },
    {
      "cell_type": "markdown",
      "metadata": {
        "id": "XAhkFhNCQ53L",
        "colab_type": "text"
      },
      "source": [
        "# Max Accuracy=97.99       \n",
        "## has come down from 99.47% attained in the previous assignment"
      ]
    },
    {
      "cell_type": "markdown",
      "metadata": {
        "id": "wmtUjbtwfHCQ",
        "colab_type": "text"
      },
      "source": [
        "# Accumulating the serial nos of missclassified images"
      ]
    },
    {
      "cell_type": "code",
      "metadata": {
        "id": "g6TsMKwX_IoM",
        "colab_type": "code",
        "colab": {
          "base_uri": "https://localhost:8080/",
          "height": 71
        },
        "outputId": "2b2eae7a-62a7-4a94-d22b-4cf00d01578d"
      },
      "source": [
        "miscls=[]\n",
        "for i in range(10000):\n",
        " predicted = model.predict(X_test[i].reshape(1, 28, 28, 1))\n",
        " Y_test[i]=Y_test[i].reshape(1, 10)\n",
        " Y=np.argmax(Y_test[i])\n",
        " predicted=np.argmax(predicted, axis=1)\n",
        " if predicted!=Y:\n",
        "  miscls.append(i)\n",
        "print(miscls)\n",
        "len(miscls)"
      ],
      "execution_count": 105,
      "outputs": [
        {
          "output_type": "stream",
          "text": [
            "[8, 158, 241, 247, 259, 321, 338, 391, 409, 412, 445, 479, 543, 625, 712, 716, 740, 881, 883, 900, 947, 956, 965, 1014, 1044, 1107, 1178, 1202, 1226, 1232, 1247, 1248, 1273, 1281, 1290, 1299, 1319, 1364, 1377, 1429, 1469, 1500, 1527, 1530, 1553, 1559, 1581, 1621, 1634, 1673, 1686, 1709, 1717, 1754, 1790, 1813, 1878, 1901, 1909, 1952, 2018, 2035, 2053, 2070, 2107, 2109, 2118, 2130, 2135, 2174, 2182, 2266, 2272, 2276, 2293, 2325, 2447, 2462, 2473, 2573, 2574, 2597, 2607, 2654, 2810, 2836, 2847, 2896, 2939, 2953, 2995, 3060, 3062, 3073, 3115, 3225, 3240, 3289, 3303, 3316, 3422, 3437, 3490, 3520, 3558, 3559, 3597, 3681, 3716, 3726, 3727, 3730, 3757, 3767, 3778, 3808, 3821, 3853, 3856, 3906, 3926, 3941, 3985, 4007, 4075, 4176, 4194, 4201, 4224, 4238, 4256, 4284, 4294, 4359, 4382, 4393, 4505, 4571, 4639, 4690, 4724, 4740, 4783, 4807, 4814, 4823, 4860, 4890, 4978, 5152, 5159, 5203, 5634, 5842, 5887, 5888, 5937, 6028, 6065, 6505, 6555, 6571, 6572, 6576, 6597, 6617, 6625, 6651, 6847, 6945, 7054, 7094, 7121, 7216, 7912, 7915, 7928, 8094, 8110, 8279, 8316, 8332, 8339, 8408, 8493, 8520, 9009, 9015, 9051, 9071, 9540, 9642, 9664, 9679, 9729, 9770, 9780, 9792, 9811, 9839, 9922]\n"
          ],
          "name": "stdout"
        },
        {
          "output_type": "execute_result",
          "data": {
            "text/plain": [
              "201"
            ]
          },
          "metadata": {
            "tags": []
          },
          "execution_count": 105
        }
      ]
    },
    {
      "cell_type": "markdown",
      "metadata": {
        "id": "MQ7XT5CCnac7",
        "colab_type": "text"
      },
      "source": [
        "# Printing the Gallery of misclassified images "
      ]
    },
    {
      "cell_type": "code",
      "metadata": {
        "id": "7nelzWdRZj17",
        "colab_type": "code",
        "colab": {
          "base_uri": "https://localhost:8080/",
          "height": 1025
        },
        "outputId": "34bfe246-72f9-4cba-d918-4439548ad246"
      },
      "source": [
        "fig, axes= plt.subplots(nrows=6, ncols=5, figsize=(14, 14))\n",
        "images=[img.reshape(28, 28) for index, img in enumerate(X_test) if index in miscls]\n",
        "for idx, image in enumerate(images):\n",
        "  row= idx // 5\n",
        "  col= idx % 5\n",
        "  axes[row, col].axis(\"off\")\n",
        "  axes[row, col].imshow(image, cmap=\"gray\", aspect=\"auto\")\n",
        "plt.subplots_adjust(wspace=.05, hspace=.05)\n",
        "plt.show()"
      ],
      "execution_count": 111,
      "outputs": [
        {
          "output_type": "error",
          "ename": "IndexError",
          "evalue": "ignored",
          "traceback": [
            "\u001b[0;31m---------------------------------------------------------------------------\u001b[0m",
            "\u001b[0;31mIndexError\u001b[0m                                Traceback (most recent call last)",
            "\u001b[0;32m<ipython-input-111-47f0c7d3af32>\u001b[0m in \u001b[0;36m<module>\u001b[0;34m()\u001b[0m\n\u001b[1;32m      4\u001b[0m   \u001b[0mrow\u001b[0m\u001b[0;34m=\u001b[0m \u001b[0midx\u001b[0m \u001b[0;34m//\u001b[0m \u001b[0;36m5\u001b[0m\u001b[0;34m\u001b[0m\u001b[0;34m\u001b[0m\u001b[0m\n\u001b[1;32m      5\u001b[0m   \u001b[0mcol\u001b[0m\u001b[0;34m=\u001b[0m \u001b[0midx\u001b[0m \u001b[0;34m%\u001b[0m \u001b[0;36m5\u001b[0m\u001b[0;34m\u001b[0m\u001b[0;34m\u001b[0m\u001b[0m\n\u001b[0;32m----> 6\u001b[0;31m   \u001b[0maxes\u001b[0m\u001b[0;34m[\u001b[0m\u001b[0mrow\u001b[0m\u001b[0;34m,\u001b[0m \u001b[0mcol\u001b[0m\u001b[0;34m]\u001b[0m\u001b[0;34m.\u001b[0m\u001b[0maxis\u001b[0m\u001b[0;34m(\u001b[0m\u001b[0;34m\"off\"\u001b[0m\u001b[0;34m)\u001b[0m\u001b[0;34m\u001b[0m\u001b[0;34m\u001b[0m\u001b[0m\n\u001b[0m\u001b[1;32m      7\u001b[0m   \u001b[0maxes\u001b[0m\u001b[0;34m[\u001b[0m\u001b[0mrow\u001b[0m\u001b[0;34m,\u001b[0m \u001b[0mcol\u001b[0m\u001b[0;34m]\u001b[0m\u001b[0;34m.\u001b[0m\u001b[0mimshow\u001b[0m\u001b[0;34m(\u001b[0m\u001b[0mimage\u001b[0m\u001b[0;34m,\u001b[0m \u001b[0mcmap\u001b[0m\u001b[0;34m=\u001b[0m\u001b[0;34m\"gray\"\u001b[0m\u001b[0;34m,\u001b[0m \u001b[0maspect\u001b[0m\u001b[0;34m=\u001b[0m\u001b[0;34m\"auto\"\u001b[0m\u001b[0;34m)\u001b[0m\u001b[0;34m\u001b[0m\u001b[0;34m\u001b[0m\u001b[0m\n\u001b[1;32m      8\u001b[0m \u001b[0mplt\u001b[0m\u001b[0;34m.\u001b[0m\u001b[0msubplots_adjust\u001b[0m\u001b[0;34m(\u001b[0m\u001b[0mwspace\u001b[0m\u001b[0;34m=\u001b[0m\u001b[0;36m.05\u001b[0m\u001b[0;34m,\u001b[0m \u001b[0mhspace\u001b[0m\u001b[0;34m=\u001b[0m\u001b[0;36m.05\u001b[0m\u001b[0;34m)\u001b[0m\u001b[0;34m\u001b[0m\u001b[0;34m\u001b[0m\u001b[0m\n",
            "\u001b[0;31mIndexError\u001b[0m: index 6 is out of bounds for axis 0 with size 6"
          ]
        },
        {
          "output_type": "display_data",
          "data": {
            "image/png": "[encoded data removed]",
            "text/plain": [
              "<Figure size 1008x1008 with 30 Axes>"
            ]
          },
          "metadata": {
            "tags": []
          }
        }
      ]
    }
  ]
}